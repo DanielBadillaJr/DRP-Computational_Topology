{
 "cells": [
  {
   "cell_type": "markdown",
   "id": "1bb76447",
   "metadata": {},
   "source": [
    "# Creating Simplicial Complex Class"
   ]
  },
  {
   "cell_type": "code",
   "execution_count": 1,
   "id": "67657b3a",
   "metadata": {},
   "outputs": [],
   "source": [
    "import numpy as np"
   ]
  },
  {
   "cell_type": "code",
   "execution_count": 2,
   "id": "90d14aa2",
   "metadata": {},
   "outputs": [],
   "source": [
    "class Simplicial_Complex:\n",
    "    def __init__(self, simplices):\n",
    "        self.simplices = simplices"
   ]
  },
  {
   "cell_type": "code",
   "execution_count": 3,
   "id": "a610f74a",
   "metadata": {},
   "outputs": [],
   "source": [
    "class Simplex:\n",
    "    def __init__(self, vertices):\n",
    "        self.vertices = vertices\n",
    "        self.dim = len(vertices)-1\n",
    "        \n",
    "    #def __add__(self, rhs):\n",
    "        # use add_simplex\n",
    "        # use add_chain\n",
    "    \n",
    "    def __eq__(self,rhs):\n",
    "        if self and rhs:\n",
    "            return self.vertices == rhs.vertices\n",
    "        else:\n",
    "            return False\n",
    "        \n",
    "    def __str__(self):\n",
    "        return f\"Simplex({self.vertices})\"\n",
    "    \n",
    "    def __repr__(self):\n",
    "        return f\"Simplex({self.vertices})\"\n",
    "    \n",
    "    def boundary(self): # input is n-simplex and output is (n-1)-chain\n",
    "        n = len(self.vertices)\n",
    "        simplices = [Simplex(self.vertices[:i] + self.vertices[i+1:]) for i in range(n)]\n",
    "        coefficients = [(-1)**i for i in range(n)]\n",
    "        #return simplices  # making sure output is correct, but it wasn't; simplices was list of lists of lists; error\n",
    "        #return coefficients\n",
    "        return Chain(simplices,coefficients)"
   ]
  },
  {
   "cell_type": "code",
   "execution_count": 4,
   "id": "9d2a57d6",
   "metadata": {},
   "outputs": [],
   "source": [
    "class Chain:\n",
    "    # should be taking in Simplex types\n",
    "    def __init__(self, simplices, coefficients): # simplices are of same dimension\n",
    "        if len(simplices) == 1:\n",
    "            pass\n",
    "        else:\n",
    "            length = len(simplices[0].vertices)\n",
    "            for lst in simplices[1:]:\n",
    "                if len(lst.vertices) != length:\n",
    "                    raise TypeError(\"Simplices must be of same dimension.\")\n",
    "\n",
    "\n",
    "        distinct_simplices = []\n",
    "        for simplex in simplices:\n",
    "            if simplex not in distinct_simplices:\n",
    "                distinct_simplices.append(simplex)\n",
    "\n",
    "\n",
    "        coef = [0 for i in range(len(distinct_simplices))]\n",
    "        for i in range(len(distinct_simplices)):\n",
    "            simplex = distinct_simplices[i]\n",
    "            for j in range(len(simplices)):\n",
    "                if simplices[j] == simplex:\n",
    "                    coef[i] += coefficients[j]\n",
    "        self.simplices = distinct_simplices\n",
    "        self.coefficients = coef\n",
    "        \n",
    "    def __str__(self):\n",
    "        return f\"Chain({self.simplices}, {self.coefficients})\"\n",
    "    \n",
    "    def __repr__(self):\n",
    "        return f\"Simplex({self.vertices})\"\n",
    "    \n",
    "        \n",
    "    def add_chain(self, other): # same dim  # also make it so you add a simplex not just a list of vertices\n",
    "        if len(self.simplices[0].vertices) != len(rhs.simplices[0].vertices): \n",
    "            raise TypeError(\"Chains must be of same dimension.\")\n",
    "        else:\n",
    "            total_simplices = self.simplices + other.simplices\n",
    "            total_coefficients = self.coefficients + other.coefficients\n",
    "            temp_chain = Chain(total_simplices, total_coefficients)\n",
    "            self.simplices = temp_chain.simplices\n",
    "            self.coefficients = temp_chain.coefficients\n",
    "            \n",
    "    def boundary(self):\n",
    "        total_simplices = []\n",
    "        total_coefficients = []\n",
    "        for i in range(len(self.simplices)):\n",
    "            simplex = self.simplices[i]\n",
    "            temp_simplices = simplex.boundary().simplices\n",
    "            for x in range(len(temp_simplices)):\n",
    "                total_simplices.append(temp_simplices[x])\n",
    "            temp_coef = simplex.boundary().coefficients\n",
    "            new_coef = [self.coefficients[i] * temp_coef[j] for j in range(len(temp_coef))]\n",
    "            for c in range(len(new_coef)):\n",
    "                total_coefficients.append(new_coef[c])\n",
    "        new_chain = Chain(total_simplices, total_coefficients)\n",
    "        return new_chain\n",
    "    "
   ]
  },
  {
   "cell_type": "code",
   "execution_count": 36,
   "id": "321b4dec",
   "metadata": {},
   "outputs": [],
   "source": [
    "class BoundaryMap:\n",
    "    def __init__(self,sc,n):\n",
    "        # will look through all the simplices, check n-simplices where n is num of vertices\n",
    "        d_basis = []\n",
    "        cd_basis = []\n",
    "        # store those in list called domain-basis\n",
    "        for i in range(len(sc.simplices)):\n",
    "            if sc.simplices[i].dim == n:      #2-simplex has 2 vertices, but 1 dimensional, so dim + 1 gives # vertices\n",
    "                d_basis.append(sc.simplices[i])\n",
    "        # and repeat for the n-1 simplices\n",
    "        for i in range(len(sc.simplices)):\n",
    "            if sc.simplices[i].dim == n-1:\n",
    "                cd_basis.append(sc.simplices[i])\n",
    "        # initialize matrix (or vector) which will contain columns vectors, may be rows at first, so prepare for transposing matrix\n",
    "        if len(d_basis) == 0:\n",
    "            mat = np.zeros((len(cd_basis),1))\n",
    "            self.map = mat\n",
    "        elif len(cd_basis) == 0:\n",
    "            mat = np.zeros((1, len(d_basis)))\n",
    "            self.map = mat\n",
    "        else:\n",
    "            mat = np.zeros((len(cd_basis),len(d_basis)))\n",
    "            # for basis_simplex in domain_basis:\n",
    "            for basis_simplex in d_basis:\n",
    "                bd_chain = basis_simplex.boundary()\n",
    "                vector = np.zeros(len(cd_basis))\n",
    "                for i in range(len(cd_basis)):\n",
    "                    if cd_basis[i] in bd_chain.simplices:\n",
    "                        index = bd_chain.simplices.index(cd_basis[i])\n",
    "                        vector[i] += bd_chain.coefficients[index]\n",
    "                # now add coefficient vector to matrix\n",
    "                mat[:,d_basis.index(basis_simplex)] = vector.T\n",
    "            self.map = mat"
   ]
  },
  {
   "cell_type": "code",
   "execution_count": 38,
   "id": "c5907763",
   "metadata": {
    "scrolled": true
   },
   "outputs": [
    {
     "data": {
      "text/plain": [
       "array([[0.]])"
      ]
     },
     "execution_count": 38,
     "metadata": {},
     "output_type": "execute_result"
    }
   ],
   "source": [
    "sc = Simplicial_Complex([Simplex([1,2,3]), Simplex([1,2,4]), Simplex([1,2]), Simplex([1,3]), Simplex([1])])\n",
    "BoundaryMap(sc,0).map"
   ]
  },
  {
   "cell_type": "code",
   "execution_count": 32,
   "id": "b7a63650",
   "metadata": {
    "scrolled": true
   },
   "outputs": [
    {
     "name": "stdout",
     "output_type": "stream",
     "text": [
      "0\n",
      "[ 1. -1.]\n",
      "1\n",
      "[1. 0.]\n"
     ]
    },
    {
     "data": {
      "text/plain": [
       "2"
      ]
     },
     "execution_count": 32,
     "metadata": {},
     "output_type": "execute_result"
    }
   ],
   "source": [
    "sc = Simplicial_Complex([Simplex([1,2,3]), Simplex([1,2,4]), Simplex([1,2]), Simplex([1,3]), Simplex([1])])\n",
    "np.linalg.matrix_rank(BoundaryMap(sc,2).map)"
   ]
  },
  {
   "cell_type": "code",
   "execution_count": 21,
   "id": "4c8df3f3",
   "metadata": {},
   "outputs": [
    {
     "name": "stdout",
     "output_type": "stream",
     "text": [
      "[[0. 1. 0.]\n",
      " [4. 5. 6.]\n",
      " [0. 3. 0.]]\n"
     ]
    }
   ],
   "source": [
    "x = np.zeros((3,3))\n",
    "x[:,1] = [1,2,3]\n",
    "x[1,:] = [4,5,6]\n",
    "print(x)"
   ]
  },
  {
   "cell_type": "code",
   "execution_count": 39,
   "id": "a8ffd468",
   "metadata": {},
   "outputs": [
    {
     "data": {
      "text/plain": [
       "array([[0., 0., 0., 0.]])"
      ]
     },
     "execution_count": 39,
     "metadata": {},
     "output_type": "execute_result"
    }
   ],
   "source": [
    "sc = Simplicial_Complex([Simplex([1]), Simplex([2]), Simplex([3]), Simplex([4]),\n",
    "                         Simplex([1,2]), Simplex([1,3]), Simplex([1,4]), Simplex([2,3]), Simplex([2,4]),\n",
    "                         Simplex([1,2,3]), Simplex([1,2,4])])\n",
    "BoundaryMap(sc,0).map"
   ]
  },
  {
   "cell_type": "code",
   "execution_count": 42,
   "id": "d1bcceb1",
   "metadata": {},
   "outputs": [],
   "source": [
    "def betti(sc, n):\n",
    "    d_basis = []\n",
    "    for i in range(len(sc.simplices)):\n",
    "        if sc.simplices[i].dim == n:\n",
    "            d_basis.append(sc.simplices[i])\n",
    "    dim_Cn = len(d_basis)\n",
    "    rank_dn = np.linalg.matrix_rank(BoundaryMap(sc,n).map)\n",
    "    rank_dn_plus_1 = np.linalg.matrix_rank(BoundaryMap(sc,n+1).map)\n",
    "    betti = dim_Cn - rank_dn - rank_dn_plus_1\n",
    "    return betti"
   ]
  },
  {
   "cell_type": "code",
   "execution_count": 51,
   "id": "8de58b88",
   "metadata": {},
   "outputs": [
    {
     "name": "stdout",
     "output_type": "stream",
     "text": [
      "1\n",
      "3\n"
     ]
    },
    {
     "ename": "ValueError",
     "evalue": "zero-size array to reduction operation maximum which has no identity",
     "output_type": "error",
     "traceback": [
      "\u001b[0;31m---------------------------------------------------------------------------\u001b[0m",
      "\u001b[0;31mValueError\u001b[0m                                Traceback (most recent call last)",
      "Cell \u001b[0;32mIn[51], line 4\u001b[0m\n\u001b[1;32m      1\u001b[0m sc \u001b[38;5;241m=\u001b[39m Simplicial_Complex([Simplex([\u001b[38;5;241m1\u001b[39m]), Simplex([\u001b[38;5;241m2\u001b[39m]), Simplex([\u001b[38;5;241m3\u001b[39m]), Simplex([\u001b[38;5;241m4\u001b[39m]),\n\u001b[1;32m      2\u001b[0m                          Simplex([\u001b[38;5;241m1\u001b[39m,\u001b[38;5;241m2\u001b[39m]), Simplex([\u001b[38;5;241m1\u001b[39m,\u001b[38;5;241m3\u001b[39m]), Simplex([\u001b[38;5;241m1\u001b[39m,\u001b[38;5;241m4\u001b[39m]), Simplex([\u001b[38;5;241m2\u001b[39m,\u001b[38;5;241m3\u001b[39m]), Simplex([\u001b[38;5;241m2\u001b[39m,\u001b[38;5;241m4\u001b[39m]), Simplex([\u001b[38;5;241m3\u001b[39m,\u001b[38;5;241m4\u001b[39m])])\n\u001b[1;32m      3\u001b[0m \u001b[38;5;28;01mfor\u001b[39;00m i \u001b[38;5;129;01min\u001b[39;00m \u001b[38;5;28mrange\u001b[39m(\u001b[38;5;241m4\u001b[39m):\n\u001b[0;32m----> 4\u001b[0m     \u001b[38;5;28mprint\u001b[39m(\u001b[43mbetti\u001b[49m\u001b[43m(\u001b[49m\u001b[43msc\u001b[49m\u001b[43m,\u001b[49m\u001b[43mi\u001b[49m\u001b[43m)\u001b[49m)\n",
      "Cell \u001b[0;32mIn[42], line 8\u001b[0m, in \u001b[0;36mbetti\u001b[0;34m(sc, n)\u001b[0m\n\u001b[1;32m      6\u001b[0m dim_Cn \u001b[38;5;241m=\u001b[39m \u001b[38;5;28mlen\u001b[39m(d_basis)\n\u001b[1;32m      7\u001b[0m rank_dn \u001b[38;5;241m=\u001b[39m np\u001b[38;5;241m.\u001b[39mlinalg\u001b[38;5;241m.\u001b[39mmatrix_rank(BoundaryMap(sc,n)\u001b[38;5;241m.\u001b[39mmap)\n\u001b[0;32m----> 8\u001b[0m rank_dn_plus_1 \u001b[38;5;241m=\u001b[39m \u001b[43mnp\u001b[49m\u001b[38;5;241;43m.\u001b[39;49m\u001b[43mlinalg\u001b[49m\u001b[38;5;241;43m.\u001b[39;49m\u001b[43mmatrix_rank\u001b[49m\u001b[43m(\u001b[49m\u001b[43mBoundaryMap\u001b[49m\u001b[43m(\u001b[49m\u001b[43msc\u001b[49m\u001b[43m,\u001b[49m\u001b[43mn\u001b[49m\u001b[38;5;241;43m+\u001b[39;49m\u001b[38;5;241;43m1\u001b[39;49m\u001b[43m)\u001b[49m\u001b[38;5;241;43m.\u001b[39;49m\u001b[43mmap\u001b[49m\u001b[43m)\u001b[49m\n\u001b[1;32m      9\u001b[0m betti \u001b[38;5;241m=\u001b[39m dim_Cn \u001b[38;5;241m-\u001b[39m rank_dn \u001b[38;5;241m-\u001b[39m rank_dn_plus_1\n\u001b[1;32m     10\u001b[0m \u001b[38;5;28;01mreturn\u001b[39;00m betti\n",
      "File \u001b[0;32m<__array_function__ internals>:180\u001b[0m, in \u001b[0;36mmatrix_rank\u001b[0;34m(*args, **kwargs)\u001b[0m\n",
      "File \u001b[0;32m~/opt/anaconda3/lib/python3.8/site-packages/numpy/linalg/linalg.py:1891\u001b[0m, in \u001b[0;36mmatrix_rank\u001b[0;34m(A, tol, hermitian)\u001b[0m\n\u001b[1;32m   1889\u001b[0m S \u001b[38;5;241m=\u001b[39m svd(A, compute_uv\u001b[38;5;241m=\u001b[39m\u001b[38;5;28;01mFalse\u001b[39;00m, hermitian\u001b[38;5;241m=\u001b[39mhermitian)\n\u001b[1;32m   1890\u001b[0m \u001b[38;5;28;01mif\u001b[39;00m tol \u001b[38;5;129;01mis\u001b[39;00m \u001b[38;5;28;01mNone\u001b[39;00m:\n\u001b[0;32m-> 1891\u001b[0m     tol \u001b[38;5;241m=\u001b[39m \u001b[43mS\u001b[49m\u001b[38;5;241;43m.\u001b[39;49m\u001b[43mmax\u001b[49m\u001b[43m(\u001b[49m\u001b[43maxis\u001b[49m\u001b[38;5;241;43m=\u001b[39;49m\u001b[38;5;241;43m-\u001b[39;49m\u001b[38;5;241;43m1\u001b[39;49m\u001b[43m,\u001b[49m\u001b[43m \u001b[49m\u001b[43mkeepdims\u001b[49m\u001b[38;5;241;43m=\u001b[39;49m\u001b[38;5;28;43;01mTrue\u001b[39;49;00m\u001b[43m)\u001b[49m \u001b[38;5;241m*\u001b[39m \u001b[38;5;28mmax\u001b[39m(A\u001b[38;5;241m.\u001b[39mshape[\u001b[38;5;241m-\u001b[39m\u001b[38;5;241m2\u001b[39m:]) \u001b[38;5;241m*\u001b[39m finfo(S\u001b[38;5;241m.\u001b[39mdtype)\u001b[38;5;241m.\u001b[39meps\n\u001b[1;32m   1892\u001b[0m \u001b[38;5;28;01melse\u001b[39;00m:\n\u001b[1;32m   1893\u001b[0m     tol \u001b[38;5;241m=\u001b[39m asarray(tol)[\u001b[38;5;241m.\u001b[39m\u001b[38;5;241m.\u001b[39m\u001b[38;5;241m.\u001b[39m, newaxis]\n",
      "File \u001b[0;32m~/opt/anaconda3/lib/python3.8/site-packages/numpy/core/_methods.py:40\u001b[0m, in \u001b[0;36m_amax\u001b[0;34m(a, axis, out, keepdims, initial, where)\u001b[0m\n\u001b[1;32m     38\u001b[0m \u001b[38;5;28;01mdef\u001b[39;00m \u001b[38;5;21m_amax\u001b[39m(a, axis\u001b[38;5;241m=\u001b[39m\u001b[38;5;28;01mNone\u001b[39;00m, out\u001b[38;5;241m=\u001b[39m\u001b[38;5;28;01mNone\u001b[39;00m, keepdims\u001b[38;5;241m=\u001b[39m\u001b[38;5;28;01mFalse\u001b[39;00m,\n\u001b[1;32m     39\u001b[0m           initial\u001b[38;5;241m=\u001b[39m_NoValue, where\u001b[38;5;241m=\u001b[39m\u001b[38;5;28;01mTrue\u001b[39;00m):\n\u001b[0;32m---> 40\u001b[0m     \u001b[38;5;28;01mreturn\u001b[39;00m \u001b[43mumr_maximum\u001b[49m\u001b[43m(\u001b[49m\u001b[43ma\u001b[49m\u001b[43m,\u001b[49m\u001b[43m \u001b[49m\u001b[43maxis\u001b[49m\u001b[43m,\u001b[49m\u001b[43m \u001b[49m\u001b[38;5;28;43;01mNone\u001b[39;49;00m\u001b[43m,\u001b[49m\u001b[43m \u001b[49m\u001b[43mout\u001b[49m\u001b[43m,\u001b[49m\u001b[43m \u001b[49m\u001b[43mkeepdims\u001b[49m\u001b[43m,\u001b[49m\u001b[43m \u001b[49m\u001b[43minitial\u001b[49m\u001b[43m,\u001b[49m\u001b[43m \u001b[49m\u001b[43mwhere\u001b[49m\u001b[43m)\u001b[49m\n",
      "\u001b[0;31mValueError\u001b[0m: zero-size array to reduction operation maximum which has no identity"
     ]
    }
   ],
   "source": [
    "sc = Simplicial_Complex([Simplex([1]), Simplex([2]), Simplex([3]), Simplex([4]),\n",
    "                         Simplex([1,2]), Simplex([1,3]), Simplex([1,4]), Simplex([2,3]), Simplex([2,4]), Simplex([3,4])])\n",
    "for i in range(4):\n",
    "    print(betti(sc,i))"
   ]
  },
  {
   "cell_type": "code",
   "execution_count": 46,
   "id": "9a6c2f4b",
   "metadata": {},
   "outputs": [],
   "source": [
    "sc = Simplicial_Complex([Simplex([1]), Simplex([2]), Simplex([3]), Simplex([4]),\n",
    "                         Simplex([1,2]), Simplex([1,3]), Simplex([1,4]), Simplex([2,3]), Simplex([2,4]), Simplex([3,4]),\n",
    "                         Simplex([1,2,3]), Simplex([1,2,4])])"
   ]
  },
  {
   "cell_type": "code",
   "execution_count": 507,
   "id": "15b1f21a",
   "metadata": {},
   "outputs": [
    {
     "data": {
      "text/plain": [
       "1"
      ]
     },
     "execution_count": 507,
     "metadata": {},
     "output_type": "execute_result"
    }
   ],
   "source": [
    "Simplex([1,2]) in [Simplex([1,3]), Simplex([1,2])]\n",
    "index = [Simplex([1,3]), Simplex([1,2])].index(Simplex([1,2]))\n",
    "index"
   ]
  },
  {
   "cell_type": "code",
   "execution_count": 500,
   "id": "c73e79b0",
   "metadata": {
    "scrolled": true
   },
   "outputs": [
    {
     "name": "stdout",
     "output_type": "stream",
     "text": [
      "Simplex([1, 3])\n",
      "[1, 2, 7]\n",
      "Chain([Simplex([1, 2]), Simplex([2, 3]), Simplex([1, 3])], [1, 2, 7])\n"
     ]
    }
   ],
   "source": [
    "ch = Chain([Simplex([1,2]),Simplex([2,3]),Simplex([1,3]),Simplex([1,3])], [1,2,3,4])\n",
    "print(ch.simplices[2])\n",
    "print(ch.coefficients)\n",
    "print(ch)"
   ]
  },
  {
   "cell_type": "code",
   "execution_count": 501,
   "id": "c245277f",
   "metadata": {
    "scrolled": false
   },
   "outputs": [
    {
     "name": "stdout",
     "output_type": "stream",
     "text": [
      "[Simplex([1, 2]), Simplex([2, 3])]\n",
      "[1, 2]\n"
     ]
    }
   ],
   "source": [
    "ch1 = Chain([Simplex([1,2]),Simplex([2,3])], [1,2])\n",
    "print(ch1.simplices)\n",
    "print(ch1.coefficients)"
   ]
  },
  {
   "cell_type": "code",
   "execution_count": 502,
   "id": "f8247319",
   "metadata": {},
   "outputs": [
    {
     "name": "stdout",
     "output_type": "stream",
     "text": [
      "[Simplex([1, 2]), Simplex([2, 3])]\n"
     ]
    }
   ],
   "source": [
    "# better than sets method (fixes the problem)\n",
    "\n",
    "simplices = [Simplex([1,2]),Simplex([1,2]),Simplex([2,3])]\n",
    "distinct_simp = []\n",
    "for simplex in simplices:\n",
    "    if simplex not in distinct_simp:\n",
    "        distinct_simp.append(simplex)\n",
    "print(distinct_simp)\n",
    "#print(distinct_simp[0].vertices)"
   ]
  },
  {
   "cell_type": "code",
   "execution_count": 504,
   "id": "7711f911",
   "metadata": {
    "scrolled": true
   },
   "outputs": [
    {
     "name": "stdout",
     "output_type": "stream",
     "text": [
      "Chain([Simplex([2]), Simplex([1]), Simplex([3])], [-1, -8, 9])\n"
     ]
    }
   ],
   "source": [
    "print(ch.boundary())"
   ]
  },
  {
   "cell_type": "code",
   "execution_count": 494,
   "id": "2eaef996",
   "metadata": {},
   "outputs": [
    {
     "name": "stdout",
     "output_type": "stream",
     "text": [
      "Simplex([1, 2])\n"
     ]
    },
    {
     "data": {
      "text/plain": [
       "[1, 2]"
      ]
     },
     "execution_count": 494,
     "metadata": {},
     "output_type": "execute_result"
    }
   ],
   "source": [
    "s = Simplex([1,2])\n",
    "print(s)\n",
    "s.vertices"
   ]
  },
  {
   "cell_type": "code",
   "execution_count": 495,
   "id": "8e6e3bee",
   "metadata": {},
   "outputs": [
    {
     "name": "stdout",
     "output_type": "stream",
     "text": [
      "Simplex([2])\n",
      "[2]\n",
      "[1, -1]\n"
     ]
    }
   ],
   "source": [
    "print(s.boundary().simplices[0])\n",
    "print(s.boundary().simplices[0].vertices)\n",
    "print(s.boundary().coefficients)"
   ]
  },
  {
   "cell_type": "code",
   "execution_count": 496,
   "id": "c1d21e2f",
   "metadata": {},
   "outputs": [
    {
     "name": "stdout",
     "output_type": "stream",
     "text": [
      "Simplex([2, 3, 4])\n",
      "Simplex([1, 3, 4])\n",
      "Simplex([1, 2, 4])\n",
      "Simplex([1, 2, 3])\n",
      "[1, -1, 1, -1]\n"
     ]
    }
   ],
   "source": [
    "# note: order is random but coefficients align correctly with corresponding simplex in lists\n",
    "g = Simplex([1,2,3,4])\n",
    "for i in range(len(g.boundary().simplices)):\n",
    "    print(g.boundary().simplices[i])\n",
    "print(g.boundary().coefficients)"
   ]
  },
  {
   "cell_type": "code",
   "execution_count": 472,
   "id": "01614956",
   "metadata": {},
   "outputs": [
    {
     "data": {
      "text/plain": [
       "True"
      ]
     },
     "execution_count": 472,
     "metadata": {},
     "output_type": "execute_result"
    }
   ],
   "source": [
    "Simplex([1,2]) == Simplex([1,2])"
   ]
  },
  {
   "cell_type": "code",
   "execution_count": null,
   "id": "d1b04e67",
   "metadata": {},
   "outputs": [],
   "source": []
  }
 ],
 "metadata": {
  "kernelspec": {
   "display_name": "Python 3 (ipykernel)",
   "language": "python",
   "name": "python3"
  },
  "language_info": {
   "codemirror_mode": {
    "name": "ipython",
    "version": 3
   },
   "file_extension": ".py",
   "mimetype": "text/x-python",
   "name": "python",
   "nbconvert_exporter": "python",
   "pygments_lexer": "ipython3",
   "version": "3.8.8"
  }
 },
 "nbformat": 4,
 "nbformat_minor": 5
}
